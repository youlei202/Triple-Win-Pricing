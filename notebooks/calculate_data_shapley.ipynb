{
 "cells": [
  {
   "cell_type": "markdown",
   "metadata": {},
   "source": [
    "# Calculate data Shapley values\n",
    "\n",
    "Use this notebook to regenerate the `tables/unified_shapley_matrix_10sellers.csv` file after modifying the data-Shapley pipeline."
   ]
  },
  {
   "cell_type": "code",
   "execution_count": 1,
   "metadata": {},
   "outputs": [],
   "source": [
    "from pathlib import Path\n",
    "import sys\n",
    "\n",
    "project_root = Path().resolve().parent\n",
    "src_path = project_root / \"src\"\n",
    "if str(src_path) not in sys.path:\n",
    "    sys.path.insert(0, str(src_path))\n",
    "\n",
    "tables_path = project_root / \"tables\"\n",
    "tables_path.mkdir(parents=True, exist_ok=True)"
   ]
  },
  {
   "cell_type": "code",
   "execution_count": null,
   "metadata": {},
   "outputs": [
    {
     "name": "stderr",
     "output_type": "stream",
     "text": [
      "\u001b[32m2025-10-26 15:21:27.553\u001b[0m | \u001b[1mINFO    \u001b[0m | \u001b[36mdata_shapley.unified_matrix\u001b[0m:\u001b[36mbuild\u001b[0m:\u001b[36m53\u001b[0m - \u001b[1mEvaluating (%s, %s) with %d samples\u001b[0m\n",
      "\u001b[32m2025-10-26 15:21:27.554\u001b[0m | \u001b[34m\u001b[1mDEBUG   \u001b[0m | \u001b[36mdata_shapley.data_loader\u001b[0m:\u001b[36mload_dataset\u001b[0m:\u001b[36m69\u001b[0m - \u001b[34m\u001b[1mLoading dataset '%s' for %d providers\u001b[0m\n",
      "\u001b[32m2025-10-26 15:21:35.439\u001b[0m | \u001b[1mINFO    \u001b[0m | \u001b[36mdata_shapley.unified_matrix\u001b[0m:\u001b[36mbuild\u001b[0m:\u001b[36m53\u001b[0m - \u001b[1mEvaluating (%s, %s) with %d samples\u001b[0m\n",
      "\u001b[32m2025-10-26 15:21:36.139\u001b[0m | \u001b[1mINFO    \u001b[0m | \u001b[36mdata_shapley.unified_matrix\u001b[0m:\u001b[36mbuild\u001b[0m:\u001b[36m53\u001b[0m - \u001b[1mEvaluating (%s, %s) with %d samples\u001b[0m\n"
     ]
    }
   ],
   "source": [
    "from data_shapley import DEFAULT_DATASETS, UnifiedShapleyMatrix\n",
    "\n",
    "matrix = UnifiedShapleyMatrix(total_providers=10, sample_number=60, datasets=DEFAULT_DATASETS)\n",
    "df = matrix.build(output_path=tables_path / \"unified_shapley_matrix_10sellers_recomputed.csv\")\n",
    "df.head()"
   ]
  },
  {
   "cell_type": "code",
   "execution_count": null,
   "id": "cbdd54c7",
   "metadata": {},
   "outputs": [],
   "source": []
  }
 ],
 "metadata": {
  "kernelspec": {
   "display_name": "cspaper_analytics",
   "language": "python",
   "name": "python3"
  },
  "language_info": {
   "codemirror_mode": {
    "name": "ipython",
    "version": 3
   },
   "file_extension": ".py",
   "mimetype": "text/x-python",
   "name": "python",
   "nbconvert_exporter": "python",
   "pygments_lexer": "ipython3",
   "version": "3.11.13"
  }
 },
 "nbformat": 4,
 "nbformat_minor": 5
}
